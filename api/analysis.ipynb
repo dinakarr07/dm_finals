{
 "cells": [
  {
   "cell_type": "code",
   "execution_count": 2,
   "metadata": {},
   "outputs": [],
   "source": [
    "import pandas as pd"
   ]
  },
  {
   "cell_type": "code",
   "execution_count": 3,
   "metadata": {},
   "outputs": [],
   "source": [
    "data=pd.DataFrame()\n",
    "df=pd.DataFrame()"
   ]
  },
  {
   "cell_type": "code",
   "execution_count": 4,
   "metadata": {},
   "outputs": [],
   "source": [
    "for i in range(1,9):\n",
    "    data= pd.read_csv(f'batch_{i}_data.csv')\n",
    "    df=pd.concat([df,data],ignore_index=True)"
   ]
  },
  {
   "cell_type": "code",
   "execution_count": 5,
   "metadata": {},
   "outputs": [
    {
     "data": {
      "text/plain": [
       "(86918, 8)"
      ]
     },
     "execution_count": 5,
     "metadata": {},
     "output_type": "execute_result"
    }
   ],
   "source": [
    "df.shape"
   ]
  },
  {
   "cell_type": "code",
   "execution_count": 7,
   "metadata": {},
   "outputs": [
    {
     "data": {
      "text/plain": [
       "(86918, 8)"
      ]
     },
     "execution_count": 7,
     "metadata": {},
     "output_type": "execute_result"
    }
   ],
   "source": [
    "backup=df.copy()\n",
    "backup.shape"
   ]
  },
  {
   "cell_type": "code",
   "execution_count": 6,
   "metadata": {},
   "outputs": [
    {
     "data": {
      "text/html": [
       "<div>\n",
       "<style scoped>\n",
       "    .dataframe tbody tr th:only-of-type {\n",
       "        vertical-align: middle;\n",
       "    }\n",
       "\n",
       "    .dataframe tbody tr th {\n",
       "        vertical-align: top;\n",
       "    }\n",
       "\n",
       "    .dataframe thead th {\n",
       "        text-align: right;\n",
       "    }\n",
       "</style>\n",
       "<table border=\"1\" class=\"dataframe\">\n",
       "  <thead>\n",
       "    <tr style=\"text-align: right;\">\n",
       "      <th></th>\n",
       "      <th>symbol</th>\n",
       "      <th>t</th>\n",
       "      <th>o</th>\n",
       "      <th>h</th>\n",
       "      <th>l</th>\n",
       "      <th>c</th>\n",
       "      <th>v</th>\n",
       "      <th>n</th>\n",
       "    </tr>\n",
       "  </thead>\n",
       "  <tbody>\n",
       "    <tr>\n",
       "      <th>0</th>\n",
       "      <td>MSFT</td>\n",
       "      <td>2023-04-03 04:00:00</td>\n",
       "      <td>286.520</td>\n",
       "      <td>288.2700</td>\n",
       "      <td>283.95</td>\n",
       "      <td>287.23</td>\n",
       "      <td>24743342.0</td>\n",
       "      <td>351148</td>\n",
       "    </tr>\n",
       "    <tr>\n",
       "      <th>1</th>\n",
       "      <td>MSFT</td>\n",
       "      <td>2023-04-04 04:00:00</td>\n",
       "      <td>287.230</td>\n",
       "      <td>290.4499</td>\n",
       "      <td>285.67</td>\n",
       "      <td>287.18</td>\n",
       "      <td>25824299.0</td>\n",
       "      <td>351664</td>\n",
       "    </tr>\n",
       "    <tr>\n",
       "      <th>2</th>\n",
       "      <td>MSFT</td>\n",
       "      <td>2023-04-05 04:00:00</td>\n",
       "      <td>285.850</td>\n",
       "      <td>287.1500</td>\n",
       "      <td>282.92</td>\n",
       "      <td>284.34</td>\n",
       "      <td>22064770.0</td>\n",
       "      <td>315075</td>\n",
       "    </tr>\n",
       "    <tr>\n",
       "      <th>3</th>\n",
       "      <td>MSFT</td>\n",
       "      <td>2023-04-06 04:00:00</td>\n",
       "      <td>283.210</td>\n",
       "      <td>292.0800</td>\n",
       "      <td>282.03</td>\n",
       "      <td>291.60</td>\n",
       "      <td>29770334.0</td>\n",
       "      <td>391332</td>\n",
       "    </tr>\n",
       "    <tr>\n",
       "      <th>4</th>\n",
       "      <td>MSFT</td>\n",
       "      <td>2023-04-10 04:00:00</td>\n",
       "      <td>289.208</td>\n",
       "      <td>289.6000</td>\n",
       "      <td>284.71</td>\n",
       "      <td>289.39</td>\n",
       "      <td>23095494.0</td>\n",
       "      <td>320739</td>\n",
       "    </tr>\n",
       "  </tbody>\n",
       "</table>\n",
       "</div>"
      ],
      "text/plain": [
       "  symbol                    t        o         h       l       c           v  \\\n",
       "0   MSFT  2023-04-03 04:00:00  286.520  288.2700  283.95  287.23  24743342.0   \n",
       "1   MSFT  2023-04-04 04:00:00  287.230  290.4499  285.67  287.18  25824299.0   \n",
       "2   MSFT  2023-04-05 04:00:00  285.850  287.1500  282.92  284.34  22064770.0   \n",
       "3   MSFT  2023-04-06 04:00:00  283.210  292.0800  282.03  291.60  29770334.0   \n",
       "4   MSFT  2023-04-10 04:00:00  289.208  289.6000  284.71  289.39  23095494.0   \n",
       "\n",
       "        n  \n",
       "0  351148  \n",
       "1  351664  \n",
       "2  315075  \n",
       "3  391332  \n",
       "4  320739  "
      ]
     },
     "execution_count": 6,
     "metadata": {},
     "output_type": "execute_result"
    }
   ],
   "source": [
    "df.head()"
   ]
  },
  {
   "cell_type": "code",
   "execution_count": 8,
   "metadata": {},
   "outputs": [
    {
     "data": {
      "text/plain": [
       "symbol\n",
       "SQ      880\n",
       "SHOP    880\n",
       "BDX     440\n",
       "CMG     440\n",
       "MDLZ    440\n",
       "       ... \n",
       "BKNG    440\n",
       "JD      440\n",
       "BIIB    439\n",
       "ALNY    439\n",
       "SPLK    240\n",
       "Name: count, Length: 196, dtype: int64"
      ]
     },
     "execution_count": 8,
     "metadata": {},
     "output_type": "execute_result"
    }
   ],
   "source": [
    "df['symbol'].value_counts()"
   ]
  },
  {
   "cell_type": "code",
   "execution_count": 10,
   "metadata": {},
   "outputs": [
    {
     "data": {
      "text/html": [
       "<div>\n",
       "<style scoped>\n",
       "    .dataframe tbody tr th:only-of-type {\n",
       "        vertical-align: middle;\n",
       "    }\n",
       "\n",
       "    .dataframe tbody tr th {\n",
       "        vertical-align: top;\n",
       "    }\n",
       "\n",
       "    .dataframe thead th {\n",
       "        text-align: right;\n",
       "    }\n",
       "</style>\n",
       "<table border=\"1\" class=\"dataframe\">\n",
       "  <thead>\n",
       "    <tr style=\"text-align: right;\">\n",
       "      <th></th>\n",
       "      <th>o</th>\n",
       "      <th>h</th>\n",
       "      <th>l</th>\n",
       "      <th>c</th>\n",
       "      <th>v</th>\n",
       "      <th>n</th>\n",
       "    </tr>\n",
       "  </thead>\n",
       "  <tbody>\n",
       "    <tr>\n",
       "      <th>count</th>\n",
       "      <td>86918.000000</td>\n",
       "      <td>86918.000000</td>\n",
       "      <td>86918.000000</td>\n",
       "      <td>86918.000000</td>\n",
       "      <td>8.691800e+04</td>\n",
       "      <td>8.691800e+04</td>\n",
       "    </tr>\n",
       "    <tr>\n",
       "      <th>mean</th>\n",
       "      <td>3172.250255</td>\n",
       "      <td>3195.290064</td>\n",
       "      <td>3147.020627</td>\n",
       "      <td>3170.569993</td>\n",
       "      <td>1.153528e+07</td>\n",
       "      <td>8.767235e+04</td>\n",
       "    </tr>\n",
       "    <tr>\n",
       "      <th>std</th>\n",
       "      <td>42290.894205</td>\n",
       "      <td>42587.620524</td>\n",
       "      <td>41960.944207</td>\n",
       "      <td>42263.971451</td>\n",
       "      <td>3.495429e+07</td>\n",
       "      <td>1.538461e+05</td>\n",
       "    </tr>\n",
       "    <tr>\n",
       "      <th>min</th>\n",
       "      <td>2.060000</td>\n",
       "      <td>2.137900</td>\n",
       "      <td>2.000000</td>\n",
       "      <td>2.010000</td>\n",
       "      <td>7.420000e+02</td>\n",
       "      <td>2.440000e+02</td>\n",
       "    </tr>\n",
       "    <tr>\n",
       "      <th>25%</th>\n",
       "      <td>52.630000</td>\n",
       "      <td>53.196250</td>\n",
       "      <td>52.073575</td>\n",
       "      <td>52.654000</td>\n",
       "      <td>2.081300e+06</td>\n",
       "      <td>3.262575e+04</td>\n",
       "    </tr>\n",
       "    <tr>\n",
       "      <th>50%</th>\n",
       "      <td>98.010000</td>\n",
       "      <td>99.030000</td>\n",
       "      <td>97.000000</td>\n",
       "      <td>98.055000</td>\n",
       "      <td>4.397495e+06</td>\n",
       "      <td>5.305200e+04</td>\n",
       "    </tr>\n",
       "    <tr>\n",
       "      <th>75%</th>\n",
       "      <td>194.280000</td>\n",
       "      <td>196.297500</td>\n",
       "      <td>192.327500</td>\n",
       "      <td>194.230000</td>\n",
       "      <td>1.004971e+07</td>\n",
       "      <td>8.814775e+04</td>\n",
       "    </tr>\n",
       "    <tr>\n",
       "      <th>max</th>\n",
       "      <td>730090.820000</td>\n",
       "      <td>741971.390000</td>\n",
       "      <td>723050.000000</td>\n",
       "      <td>724040.000000</td>\n",
       "      <td>1.543834e+09</td>\n",
       "      <td>4.742026e+06</td>\n",
       "    </tr>\n",
       "  </tbody>\n",
       "</table>\n",
       "</div>"
      ],
      "text/plain": [
       "                   o              h              l              c  \\\n",
       "count   86918.000000   86918.000000   86918.000000   86918.000000   \n",
       "mean     3172.250255    3195.290064    3147.020627    3170.569993   \n",
       "std     42290.894205   42587.620524   41960.944207   42263.971451   \n",
       "min         2.060000       2.137900       2.000000       2.010000   \n",
       "25%        52.630000      53.196250      52.073575      52.654000   \n",
       "50%        98.010000      99.030000      97.000000      98.055000   \n",
       "75%       194.280000     196.297500     192.327500     194.230000   \n",
       "max    730090.820000  741971.390000  723050.000000  724040.000000   \n",
       "\n",
       "                  v             n  \n",
       "count  8.691800e+04  8.691800e+04  \n",
       "mean   1.153528e+07  8.767235e+04  \n",
       "std    3.495429e+07  1.538461e+05  \n",
       "min    7.420000e+02  2.440000e+02  \n",
       "25%    2.081300e+06  3.262575e+04  \n",
       "50%    4.397495e+06  5.305200e+04  \n",
       "75%    1.004971e+07  8.814775e+04  \n",
       "max    1.543834e+09  4.742026e+06  "
      ]
     },
     "execution_count": 10,
     "metadata": {},
     "output_type": "execute_result"
    }
   ],
   "source": [
    "df.describe()"
   ]
  },
  {
   "cell_type": "code",
   "execution_count": null,
   "metadata": {},
   "outputs": [],
   "source": []
  }
 ],
 "metadata": {
  "kernelspec": {
   "display_name": "api-8K0M4Wh6-py3.11",
   "language": "python",
   "name": "python3"
  },
  "language_info": {
   "codemirror_mode": {
    "name": "ipython",
    "version": 3
   },
   "file_extension": ".py",
   "mimetype": "text/x-python",
   "name": "python",
   "nbconvert_exporter": "python",
   "pygments_lexer": "ipython3",
   "version": "3.11.5"
  }
 },
 "nbformat": 4,
 "nbformat_minor": 2
}
