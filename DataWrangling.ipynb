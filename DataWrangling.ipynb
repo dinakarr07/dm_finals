{
 "cells": [
  {
   "cell_type": "code",
   "execution_count": 4,
   "id": "644f0429-400f-46d8-84b6-35df2d583848",
   "metadata": {},
   "outputs": [],
   "source": [
    "import warnings\n",
    "warnings.filterwarnings('ignore')\n",
    "import pandas as pd"
   ]
  },
  {
   "cell_type": "code",
   "execution_count": 8,
   "id": "0010dabf-c01e-4461-b6bd-ef670e3d3811",
   "metadata": {},
   "outputs": [
    {
     "name": "stdout",
     "output_type": "stream",
     "text": [
      "(86918, 8)\n"
     ]
    }
   ],
   "source": [
    "files = [f\"api/batch_{i}_data.csv\" for i in range(1, 9)]\n",
    "data = pd.concat([pd.read_csv(file) for file in files], ignore_index=True)\n",
    "print(data.shape)"
   ]
  },
  {
   "cell_type": "code",
   "execution_count": 10,
   "id": "edf7147f-41ce-4705-adf1-fb8ae8e7d831",
   "metadata": {},
   "outputs": [],
   "source": [
    "#Shortlisting the data Focusing on 5 Sectors with 5 companies each\n",
    "symbols_req=[\n",
    "    \"AAPL\", \"GOOGL\", \"MSFT\", \"AMZN\", \"META\",\n",
    "    \"TSLA\", \"F\", \"GM\", \"TM\",\n",
    "    \"V\", \"MA\", \"JPM\", \"BAC\", \"WFC\", \"C\",\n",
    "    \"KO\", \"PEP\", \"WMT\", \"COST\", \"HD\",\n",
    "    \"JNJ\", \"PFE\", \"MRK\", \"ABBV\", \"MRNA\", \"BIIB\",\n",
    "    \"XOM\", \"PSX\", \"DUK\", \"SHEL\", \"MPC\"\n",
    "]\n",
    "df=data[data['symbol'].isin(symbols_req)]"
   ]
  },
  {
   "cell_type": "code",
   "execution_count": 12,
   "id": "d43d0ba9-3342-46de-8961-e4a2dd185e83",
   "metadata": {},
   "outputs": [
    {
     "data": {
      "text/plain": [
       "(13639, 8)"
      ]
     },
     "execution_count": 12,
     "metadata": {},
     "output_type": "execute_result"
    }
   ],
   "source": [
    "df.shape"
   ]
  },
  {
   "cell_type": "code",
   "execution_count": 14,
   "id": "3d379433-7224-4d85-b309-c0d1ee920f5d",
   "metadata": {},
   "outputs": [
    {
     "data": {
      "text/plain": [
       "symbol\n",
       "MSFT     440\n",
       "GOOGL    440\n",
       "PSX      440\n",
       "XOM      440\n",
       "MPC      440\n",
       "SHEL     440\n",
       "MRNA     440\n",
       "COST     440\n",
       "HD       440\n",
       "WMT      440\n",
       "ABBV     440\n",
       "GM       440\n",
       "C        440\n",
       "MRK      440\n",
       "BAC      440\n",
       "PEP      440\n",
       "V        440\n",
       "KO       440\n",
       "MA       440\n",
       "JPM      440\n",
       "TM       440\n",
       "WFC      440\n",
       "F        440\n",
       "JNJ      440\n",
       "PFE      440\n",
       "META     440\n",
       "TSLA     440\n",
       "AMZN     440\n",
       "AAPL     440\n",
       "DUK      440\n",
       "BIIB     439\n",
       "Name: count, dtype: int64"
      ]
     },
     "execution_count": 14,
     "metadata": {},
     "output_type": "execute_result"
    }
   ],
   "source": [
    "df['symbol'].value_counts()"
   ]
  },
  {
   "cell_type": "code",
   "execution_count": 16,
   "id": "30ffaa96-42cc-4ff3-a1c9-cf15cf068200",
   "metadata": {},
   "outputs": [
    {
     "data": {
      "text/html": [
       "<div>\n",
       "<style scoped>\n",
       "    .dataframe tbody tr th:only-of-type {\n",
       "        vertical-align: middle;\n",
       "    }\n",
       "\n",
       "    .dataframe tbody tr th {\n",
       "        vertical-align: top;\n",
       "    }\n",
       "\n",
       "    .dataframe thead th {\n",
       "        text-align: right;\n",
       "    }\n",
       "</style>\n",
       "<table border=\"1\" class=\"dataframe\">\n",
       "  <thead>\n",
       "    <tr style=\"text-align: right;\">\n",
       "      <th></th>\n",
       "      <th>symbol</th>\n",
       "      <th>t</th>\n",
       "      <th>o</th>\n",
       "      <th>h</th>\n",
       "      <th>l</th>\n",
       "      <th>c</th>\n",
       "      <th>v</th>\n",
       "      <th>n</th>\n",
       "      <th>sector</th>\n",
       "    </tr>\n",
       "  </thead>\n",
       "  <tbody>\n",
       "    <tr>\n",
       "      <th>0</th>\n",
       "      <td>MSFT</td>\n",
       "      <td>2023-04-03 04:00:00</td>\n",
       "      <td>286.520</td>\n",
       "      <td>288.2700</td>\n",
       "      <td>283.95</td>\n",
       "      <td>287.23</td>\n",
       "      <td>24743342.0</td>\n",
       "      <td>351148</td>\n",
       "      <td>Technology/IT</td>\n",
       "    </tr>\n",
       "    <tr>\n",
       "      <th>1</th>\n",
       "      <td>MSFT</td>\n",
       "      <td>2023-04-04 04:00:00</td>\n",
       "      <td>287.230</td>\n",
       "      <td>290.4499</td>\n",
       "      <td>285.67</td>\n",
       "      <td>287.18</td>\n",
       "      <td>25824299.0</td>\n",
       "      <td>351664</td>\n",
       "      <td>Technology/IT</td>\n",
       "    </tr>\n",
       "    <tr>\n",
       "      <th>2</th>\n",
       "      <td>MSFT</td>\n",
       "      <td>2023-04-05 04:00:00</td>\n",
       "      <td>285.850</td>\n",
       "      <td>287.1500</td>\n",
       "      <td>282.92</td>\n",
       "      <td>284.34</td>\n",
       "      <td>22064770.0</td>\n",
       "      <td>315075</td>\n",
       "      <td>Technology/IT</td>\n",
       "    </tr>\n",
       "    <tr>\n",
       "      <th>3</th>\n",
       "      <td>MSFT</td>\n",
       "      <td>2023-04-06 04:00:00</td>\n",
       "      <td>283.210</td>\n",
       "      <td>292.0800</td>\n",
       "      <td>282.03</td>\n",
       "      <td>291.60</td>\n",
       "      <td>29770334.0</td>\n",
       "      <td>391332</td>\n",
       "      <td>Technology/IT</td>\n",
       "    </tr>\n",
       "    <tr>\n",
       "      <th>4</th>\n",
       "      <td>MSFT</td>\n",
       "      <td>2023-04-10 04:00:00</td>\n",
       "      <td>289.208</td>\n",
       "      <td>289.6000</td>\n",
       "      <td>284.71</td>\n",
       "      <td>289.39</td>\n",
       "      <td>23095494.0</td>\n",
       "      <td>320739</td>\n",
       "      <td>Technology/IT</td>\n",
       "    </tr>\n",
       "  </tbody>\n",
       "</table>\n",
       "</div>"
      ],
      "text/plain": [
       "  symbol                    t        o         h       l       c           v  \\\n",
       "0   MSFT  2023-04-03 04:00:00  286.520  288.2700  283.95  287.23  24743342.0   \n",
       "1   MSFT  2023-04-04 04:00:00  287.230  290.4499  285.67  287.18  25824299.0   \n",
       "2   MSFT  2023-04-05 04:00:00  285.850  287.1500  282.92  284.34  22064770.0   \n",
       "3   MSFT  2023-04-06 04:00:00  283.210  292.0800  282.03  291.60  29770334.0   \n",
       "4   MSFT  2023-04-10 04:00:00  289.208  289.6000  284.71  289.39  23095494.0   \n",
       "\n",
       "        n         sector  \n",
       "0  351148  Technology/IT  \n",
       "1  351664  Technology/IT  \n",
       "2  315075  Technology/IT  \n",
       "3  391332  Technology/IT  \n",
       "4  320739  Technology/IT  "
      ]
     },
     "execution_count": 16,
     "metadata": {},
     "output_type": "execute_result"
    }
   ],
   "source": [
    "# Assigning Sectors to Symbols\n",
    "technology_it = [\"AAPL\", \"GOOGL\", \"MSFT\", \"AMZN\", \"META\"]\n",
    "automotive_transportation = [\"TSLA\", \"F\", \"GM\", \"TM\"]\n",
    "financial_services = [\"V\", \"MA\", \"JPM\", \"BAC\", \"WFC\", \"C\"]\n",
    "consumer_goods_retail = [\"KO\", \"PEP\", \"WMT\", \"COST\", \"HD\"]\n",
    "healthcare = [\"JNJ\", \"PFE\", \"MRK\", \"ABBV\", \"MRNA\", \"BIIB\"]\n",
    "energy_utilities = [\"XOM\", \"PSX\", \"DUK\", \"SHEL\", \"MPC\"]\n",
    "\n",
    "# Build a mapping dictionary\n",
    "symbol_to_sector = {}\n",
    "for sym in technology_it:\n",
    "    symbol_to_sector[sym] = \"Technology/IT\"\n",
    "for sym in automotive_transportation:\n",
    "    symbol_to_sector[sym] = \"Automotive/Transportation\"\n",
    "for sym in financial_services:\n",
    "    symbol_to_sector[sym] = \"Financial Services\"\n",
    "for sym in consumer_goods_retail:\n",
    "    symbol_to_sector[sym] = \"Consumer Goods/Retail\"\n",
    "for sym in healthcare:\n",
    "    symbol_to_sector[sym] = \"Healthcare\"\n",
    "for sym in energy_utilities:\n",
    "    symbol_to_sector[sym] = \"Energy/Utilities\"\n",
    "\n",
    "# Adding the sector column to your DataFrame\n",
    "df['sector'] = df['symbol'].map(symbol_to_sector)\n",
    "\n",
    "df.head()"
   ]
  },
  {
   "cell_type": "code",
   "execution_count": 18,
   "id": "1775d06a-6869-4849-9b34-5eb9e5b6730a",
   "metadata": {},
   "outputs": [
    {
     "data": {
      "text/plain": [
       "sector\n",
       "Financial Services           2640\n",
       "Healthcare                   2639\n",
       "Technology/IT                2200\n",
       "Consumer Goods/Retail        2200\n",
       "Energy/Utilities             2200\n",
       "Automotive/Transportation    1760\n",
       "Name: count, dtype: int64"
      ]
     },
     "execution_count": 18,
     "metadata": {},
     "output_type": "execute_result"
    }
   ],
   "source": [
    "df['sector'].value_counts()"
   ]
  },
  {
   "cell_type": "code",
   "execution_count": 20,
   "id": "a9f177bd-d550-4229-8c9f-fdef892fca08",
   "metadata": {},
   "outputs": [],
   "source": [
    "#Changing column names\n",
    "df.columns = ['symbol', 'timestamp', 'open', 'high', 'low', 'close', 'volume', 'num_trades','sector']\n",
    "# Convert timestamp to datetime\n",
    "df['timestamp'] = pd.to_datetime(df['timestamp'])\n",
    "# Add date-only column for grouping\n",
    "df['date'] = df['timestamp'].dt.date\n",
    "df.drop(['timestamp'],axis=1,inplace=True)\n",
    "df = df[['sector', 'symbol', 'date', 'open', 'high', 'low', 'close', 'volume', 'num_trades']]"
   ]
  },
  {
   "cell_type": "code",
   "execution_count": 22,
   "id": "4866e9ab-6c5a-4a9a-a5f9-8b81f552f511",
   "metadata": {},
   "outputs": [
    {
     "data": {
      "text/html": [
       "<div>\n",
       "<style scoped>\n",
       "    .dataframe tbody tr th:only-of-type {\n",
       "        vertical-align: middle;\n",
       "    }\n",
       "\n",
       "    .dataframe tbody tr th {\n",
       "        vertical-align: top;\n",
       "    }\n",
       "\n",
       "    .dataframe thead th {\n",
       "        text-align: right;\n",
       "    }\n",
       "</style>\n",
       "<table border=\"1\" class=\"dataframe\">\n",
       "  <thead>\n",
       "    <tr style=\"text-align: right;\">\n",
       "      <th></th>\n",
       "      <th>sector</th>\n",
       "      <th>symbol</th>\n",
       "      <th>date</th>\n",
       "      <th>open</th>\n",
       "      <th>high</th>\n",
       "      <th>low</th>\n",
       "      <th>close</th>\n",
       "      <th>volume</th>\n",
       "      <th>num_trades</th>\n",
       "    </tr>\n",
       "  </thead>\n",
       "  <tbody>\n",
       "    <tr>\n",
       "      <th>0</th>\n",
       "      <td>Technology/IT</td>\n",
       "      <td>MSFT</td>\n",
       "      <td>2023-04-03</td>\n",
       "      <td>286.520</td>\n",
       "      <td>288.2700</td>\n",
       "      <td>283.95</td>\n",
       "      <td>287.23</td>\n",
       "      <td>24743342.0</td>\n",
       "      <td>351148</td>\n",
       "    </tr>\n",
       "    <tr>\n",
       "      <th>1</th>\n",
       "      <td>Technology/IT</td>\n",
       "      <td>MSFT</td>\n",
       "      <td>2023-04-04</td>\n",
       "      <td>287.230</td>\n",
       "      <td>290.4499</td>\n",
       "      <td>285.67</td>\n",
       "      <td>287.18</td>\n",
       "      <td>25824299.0</td>\n",
       "      <td>351664</td>\n",
       "    </tr>\n",
       "    <tr>\n",
       "      <th>2</th>\n",
       "      <td>Technology/IT</td>\n",
       "      <td>MSFT</td>\n",
       "      <td>2023-04-05</td>\n",
       "      <td>285.850</td>\n",
       "      <td>287.1500</td>\n",
       "      <td>282.92</td>\n",
       "      <td>284.34</td>\n",
       "      <td>22064770.0</td>\n",
       "      <td>315075</td>\n",
       "    </tr>\n",
       "    <tr>\n",
       "      <th>3</th>\n",
       "      <td>Technology/IT</td>\n",
       "      <td>MSFT</td>\n",
       "      <td>2023-04-06</td>\n",
       "      <td>283.210</td>\n",
       "      <td>292.0800</td>\n",
       "      <td>282.03</td>\n",
       "      <td>291.60</td>\n",
       "      <td>29770334.0</td>\n",
       "      <td>391332</td>\n",
       "    </tr>\n",
       "    <tr>\n",
       "      <th>4</th>\n",
       "      <td>Technology/IT</td>\n",
       "      <td>MSFT</td>\n",
       "      <td>2023-04-10</td>\n",
       "      <td>289.208</td>\n",
       "      <td>289.6000</td>\n",
       "      <td>284.71</td>\n",
       "      <td>289.39</td>\n",
       "      <td>23095494.0</td>\n",
       "      <td>320739</td>\n",
       "    </tr>\n",
       "  </tbody>\n",
       "</table>\n",
       "</div>"
      ],
      "text/plain": [
       "          sector symbol        date     open      high     low   close  \\\n",
       "0  Technology/IT   MSFT  2023-04-03  286.520  288.2700  283.95  287.23   \n",
       "1  Technology/IT   MSFT  2023-04-04  287.230  290.4499  285.67  287.18   \n",
       "2  Technology/IT   MSFT  2023-04-05  285.850  287.1500  282.92  284.34   \n",
       "3  Technology/IT   MSFT  2023-04-06  283.210  292.0800  282.03  291.60   \n",
       "4  Technology/IT   MSFT  2023-04-10  289.208  289.6000  284.71  289.39   \n",
       "\n",
       "       volume  num_trades  \n",
       "0  24743342.0      351148  \n",
       "1  25824299.0      351664  \n",
       "2  22064770.0      315075  \n",
       "3  29770334.0      391332  \n",
       "4  23095494.0      320739  "
      ]
     },
     "execution_count": 22,
     "metadata": {},
     "output_type": "execute_result"
    }
   ],
   "source": [
    "df.head()"
   ]
  },
  {
   "cell_type": "code",
   "execution_count": 24,
   "id": "e0fe087a-d871-43c2-a4f8-4f95ac1085fe",
   "metadata": {},
   "outputs": [
    {
     "data": {
      "text/plain": [
       "sector        0\n",
       "symbol        0\n",
       "date          0\n",
       "open          0\n",
       "high          0\n",
       "low           0\n",
       "close         0\n",
       "volume        0\n",
       "num_trades    0\n",
       "dtype: int64"
      ]
     },
     "execution_count": 24,
     "metadata": {},
     "output_type": "execute_result"
    }
   ],
   "source": [
    "df.isnull().sum()#no nulls"
   ]
  },
  {
   "cell_type": "code",
   "execution_count": 40,
   "id": "52c4a102-a18c-41e8-8b88-5174664e3bf8",
   "metadata": {},
   "outputs": [],
   "source": [
    "df.to_csv('stocks_data.csv',index=False)"
   ]
  },
  {
   "cell_type": "raw",
   "id": "16b39e4f-6ac7-42a5-9754-52976c6305a1",
   "metadata": {},
   "source": [
    "Now Processing january stock Data Of Our target Companies(Used for Testing....."
   ]
  },
  {
   "cell_type": "code",
   "execution_count": 26,
   "id": "fba33625-0852-4215-ade9-e4d4a7583b3f",
   "metadata": {},
   "outputs": [
    {
     "name": "stdout",
     "output_type": "stream",
     "text": [
      "(620, 8)\n"
     ]
    }
   ],
   "source": [
    "files = [f\"api/test_{i}.csv\" for i in range(1, 3)]\n",
    "data = pd.concat([pd.read_csv(file) for file in files], ignore_index=True)\n",
    "print(data.shape)"
   ]
  },
  {
   "cell_type": "code",
   "execution_count": 28,
   "id": "03e09d80-bc1e-42ef-9cf2-396212cc4c98",
   "metadata": {},
   "outputs": [
    {
     "data": {
      "text/html": [
       "<div>\n",
       "<style scoped>\n",
       "    .dataframe tbody tr th:only-of-type {\n",
       "        vertical-align: middle;\n",
       "    }\n",
       "\n",
       "    .dataframe tbody tr th {\n",
       "        vertical-align: top;\n",
       "    }\n",
       "\n",
       "    .dataframe thead th {\n",
       "        text-align: right;\n",
       "    }\n",
       "</style>\n",
       "<table border=\"1\" class=\"dataframe\">\n",
       "  <thead>\n",
       "    <tr style=\"text-align: right;\">\n",
       "      <th></th>\n",
       "      <th>sector</th>\n",
       "      <th>symbol</th>\n",
       "      <th>date</th>\n",
       "      <th>open</th>\n",
       "      <th>high</th>\n",
       "      <th>low</th>\n",
       "      <th>close</th>\n",
       "      <th>volume</th>\n",
       "      <th>num_trades</th>\n",
       "    </tr>\n",
       "  </thead>\n",
       "  <tbody>\n",
       "    <tr>\n",
       "      <th>0</th>\n",
       "      <td>Technology/IT</td>\n",
       "      <td>MSFT</td>\n",
       "      <td>2023-04-03</td>\n",
       "      <td>286.520</td>\n",
       "      <td>288.2700</td>\n",
       "      <td>283.95</td>\n",
       "      <td>287.23</td>\n",
       "      <td>24743342.0</td>\n",
       "      <td>351148</td>\n",
       "    </tr>\n",
       "    <tr>\n",
       "      <th>1</th>\n",
       "      <td>Technology/IT</td>\n",
       "      <td>MSFT</td>\n",
       "      <td>2023-04-04</td>\n",
       "      <td>287.230</td>\n",
       "      <td>290.4499</td>\n",
       "      <td>285.67</td>\n",
       "      <td>287.18</td>\n",
       "      <td>25824299.0</td>\n",
       "      <td>351664</td>\n",
       "    </tr>\n",
       "    <tr>\n",
       "      <th>2</th>\n",
       "      <td>Technology/IT</td>\n",
       "      <td>MSFT</td>\n",
       "      <td>2023-04-05</td>\n",
       "      <td>285.850</td>\n",
       "      <td>287.1500</td>\n",
       "      <td>282.92</td>\n",
       "      <td>284.34</td>\n",
       "      <td>22064770.0</td>\n",
       "      <td>315075</td>\n",
       "    </tr>\n",
       "    <tr>\n",
       "      <th>3</th>\n",
       "      <td>Technology/IT</td>\n",
       "      <td>MSFT</td>\n",
       "      <td>2023-04-06</td>\n",
       "      <td>283.210</td>\n",
       "      <td>292.0800</td>\n",
       "      <td>282.03</td>\n",
       "      <td>291.60</td>\n",
       "      <td>29770334.0</td>\n",
       "      <td>391332</td>\n",
       "    </tr>\n",
       "    <tr>\n",
       "      <th>4</th>\n",
       "      <td>Technology/IT</td>\n",
       "      <td>MSFT</td>\n",
       "      <td>2023-04-10</td>\n",
       "      <td>289.208</td>\n",
       "      <td>289.6000</td>\n",
       "      <td>284.71</td>\n",
       "      <td>289.39</td>\n",
       "      <td>23095494.0</td>\n",
       "      <td>320739</td>\n",
       "    </tr>\n",
       "  </tbody>\n",
       "</table>\n",
       "</div>"
      ],
      "text/plain": [
       "          sector symbol        date     open      high     low   close  \\\n",
       "0  Technology/IT   MSFT  2023-04-03  286.520  288.2700  283.95  287.23   \n",
       "1  Technology/IT   MSFT  2023-04-04  287.230  290.4499  285.67  287.18   \n",
       "2  Technology/IT   MSFT  2023-04-05  285.850  287.1500  282.92  284.34   \n",
       "3  Technology/IT   MSFT  2023-04-06  283.210  292.0800  282.03  291.60   \n",
       "4  Technology/IT   MSFT  2023-04-10  289.208  289.6000  284.71  289.39   \n",
       "\n",
       "       volume  num_trades  \n",
       "0  24743342.0      351148  \n",
       "1  25824299.0      351664  \n",
       "2  22064770.0      315075  \n",
       "3  29770334.0      391332  \n",
       "4  23095494.0      320739  "
      ]
     },
     "execution_count": 28,
     "metadata": {},
     "output_type": "execute_result"
    }
   ],
   "source": [
    "technology_it = [\"AAPL\", \"GOOGL\", \"MSFT\", \"AMZN\", \"META\"]\n",
    "automotive_transportation = [\"TSLA\", \"F\", \"GM\", \"TM\"]\n",
    "financial_services = [\"V\", \"MA\", \"JPM\", \"BAC\", \"WFC\", \"C\"]\n",
    "consumer_goods_retail = [\"KO\", \"PEP\", \"WMT\", \"COST\", \"HD\"]\n",
    "healthcare = [\"JNJ\", \"PFE\", \"MRK\", \"ABBV\", \"MRNA\", \"BIIB\"]\n",
    "energy_utilities = [\"XOM\", \"PSX\", \"DUK\", \"SHEL\", \"MPC\"]\n",
    "\n",
    "\n",
    "symbol_to_sector = {}\n",
    "for sym in technology_it:\n",
    "    symbol_to_sector[sym] = \"Technology/IT\"\n",
    "for sym in automotive_transportation:\n",
    "    symbol_to_sector[sym] = \"Automotive/Transportation\"\n",
    "for sym in financial_services:\n",
    "    symbol_to_sector[sym] = \"Financial Services\"\n",
    "for sym in consumer_goods_retail:\n",
    "    symbol_to_sector[sym] = \"Consumer Goods/Retail\"\n",
    "for sym in healthcare:\n",
    "    symbol_to_sector[sym] = \"Healthcare\"\n",
    "for sym in energy_utilities:\n",
    "    symbol_to_sector[sym] = \"Energy/Utilities\"\n",
    "\n",
    "data['sector'] = data['symbol'].map(symbol_to_sector)\n",
    "\n",
    "df.head()"
   ]
  },
  {
   "cell_type": "code",
   "execution_count": 30,
   "id": "c9c1b99b-63c2-410f-8680-5951dfcd42f5",
   "metadata": {},
   "outputs": [
    {
     "data": {
      "text/plain": [
       "sector\n",
       "Financial Services           120\n",
       "Healthcare                   120\n",
       "Technology/IT                100\n",
       "Consumer Goods/Retail        100\n",
       "Energy/Utilities             100\n",
       "Automotive/Transportation     80\n",
       "Name: count, dtype: int64"
      ]
     },
     "execution_count": 30,
     "metadata": {},
     "output_type": "execute_result"
    }
   ],
   "source": [
    "data['sector'].value_counts()"
   ]
  },
  {
   "cell_type": "code",
   "execution_count": 32,
   "id": "7620cd61-f064-4afc-b422-ca573bd060c2",
   "metadata": {},
   "outputs": [],
   "source": [
    "data.columns = ['symbol', 'timestamp', 'open', 'high', 'low', 'close', 'volume', 'num_trades','sector']\n",
    "data['timestamp'] = pd.to_datetime(data['timestamp'])\n",
    "data['date'] = data['timestamp'].dt.date\n",
    "data.drop(['timestamp'],axis=1,inplace=True)\n",
    "data = data[['sector', 'symbol', 'date', 'open', 'high', 'low', 'close', 'volume', 'num_trades']]"
   ]
  },
  {
   "cell_type": "code",
   "execution_count": 38,
   "id": "3caa322c-b3e5-4180-816e-b9a8d5fae4df",
   "metadata": {},
   "outputs": [],
   "source": [
    "data.to_csv('actual_jan.csv')"
   ]
  },
  {
   "cell_type": "code",
   "execution_count": null,
   "id": "da981507-0a37-4b2f-8bb2-f3deb6bf160f",
   "metadata": {},
   "outputs": [],
   "source": []
  },
  {
   "cell_type": "code",
   "execution_count": null,
   "id": "f36c2b7e-7ea7-4c95-870b-232be9b55198",
   "metadata": {},
   "outputs": [],
   "source": []
  },
  {
   "cell_type": "raw",
   "id": "d5472cfc-de83-4354-94f6-bcd14dc602a9",
   "metadata": {},
   "source": [
    "Concatinating All the predictions given by all the models"
   ]
  },
  {
   "cell_type": "code",
   "execution_count": 47,
   "id": "4bf10029-fa13-4d25-bf37-e62fa9ebdc58",
   "metadata": {},
   "outputs": [],
   "source": [
    "df1=pd.read_csv('LSTM_Results.csv')\n",
    "df2=pd.read_csv('ARIMA_Results.csv')\n",
    "df3=pd.read_csv('LinearRegression_Results.csv')"
   ]
  },
  {
   "cell_type": "code",
   "execution_count": 67,
   "id": "ec9d76a3-4bf7-4869-8947-e95bb5764c1c",
   "metadata": {},
   "outputs": [],
   "source": [
    "df1_renamed = df1.rename(columns={'Predicted': 'LSTM'})\n",
    "df2_renamed = df2.rename(columns={'Forecasted_Price': 'ARIMA'})\n",
    "df3_renamed = df3.rename(columns={'Predicted': 'Linear_Regression'})"
   ]
  },
  {
   "cell_type": "code",
   "execution_count": 69,
   "id": "9f4316c8-2a9b-4110-a08c-0759693a17d5",
   "metadata": {},
   "outputs": [],
   "source": [
    "merged = pd.merge(df1_renamed[['Date', 'Actual', 'LSTM']], \n",
    "                  df2_renamed[['Date', 'ARIMA']], \n",
    "                  on='Date')\n",
    "\n",
    "merged = pd.merge(merged, df3_renamed[['Date', 'Linear_Regression']], on='Date')"
   ]
  },
  {
   "cell_type": "code",
   "execution_count": 71,
   "id": "2616461d-d222-4b3a-9c3c-a38416b51d00",
   "metadata": {},
   "outputs": [
    {
     "data": {
      "text/html": [
       "<div>\n",
       "<style scoped>\n",
       "    .dataframe tbody tr th:only-of-type {\n",
       "        vertical-align: middle;\n",
       "    }\n",
       "\n",
       "    .dataframe tbody tr th {\n",
       "        vertical-align: top;\n",
       "    }\n",
       "\n",
       "    .dataframe thead th {\n",
       "        text-align: right;\n",
       "    }\n",
       "</style>\n",
       "<table border=\"1\" class=\"dataframe\">\n",
       "  <thead>\n",
       "    <tr style=\"text-align: right;\">\n",
       "      <th></th>\n",
       "      <th>Date</th>\n",
       "      <th>Actual</th>\n",
       "      <th>LSTM</th>\n",
       "      <th>ARIMA</th>\n",
       "      <th>Linear_Regression</th>\n",
       "    </tr>\n",
       "  </thead>\n",
       "  <tbody>\n",
       "    <tr>\n",
       "      <th>0</th>\n",
       "      <td>2025-01-01</td>\n",
       "      <td>418.58</td>\n",
       "      <td>424.33984</td>\n",
       "      <td>422.228782</td>\n",
       "      <td>418.864965</td>\n",
       "    </tr>\n",
       "    <tr>\n",
       "      <th>1</th>\n",
       "      <td>2025-01-02</td>\n",
       "      <td>423.35</td>\n",
       "      <td>420.91960</td>\n",
       "      <td>422.717102</td>\n",
       "      <td>413.922050</td>\n",
       "    </tr>\n",
       "    <tr>\n",
       "      <th>2</th>\n",
       "      <td>2025-01-03</td>\n",
       "      <td>427.85</td>\n",
       "      <td>418.03635</td>\n",
       "      <td>423.122524</td>\n",
       "      <td>412.311910</td>\n",
       "    </tr>\n",
       "    <tr>\n",
       "      <th>3</th>\n",
       "      <td>2025-01-06</td>\n",
       "      <td>422.37</td>\n",
       "      <td>415.69922</td>\n",
       "      <td>423.499367</td>\n",
       "      <td>412.571342</td>\n",
       "    </tr>\n",
       "    <tr>\n",
       "      <th>4</th>\n",
       "      <td>2025-01-07</td>\n",
       "      <td>424.56</td>\n",
       "      <td>413.89655</td>\n",
       "      <td>423.866357</td>\n",
       "      <td>412.926851</td>\n",
       "    </tr>\n",
       "  </tbody>\n",
       "</table>\n",
       "</div>"
      ],
      "text/plain": [
       "         Date  Actual       LSTM       ARIMA  Linear_Regression\n",
       "0  2025-01-01  418.58  424.33984  422.228782         418.864965\n",
       "1  2025-01-02  423.35  420.91960  422.717102         413.922050\n",
       "2  2025-01-03  427.85  418.03635  423.122524         412.311910\n",
       "3  2025-01-06  422.37  415.69922  423.499367         412.571342\n",
       "4  2025-01-07  424.56  413.89655  423.866357         412.926851"
      ]
     },
     "execution_count": 71,
     "metadata": {},
     "output_type": "execute_result"
    }
   ],
   "source": [
    "merged.head()"
   ]
  },
  {
   "cell_type": "code",
   "execution_count": 73,
   "id": "adaa28d7-dac2-4550-878e-725286efe34e",
   "metadata": {},
   "outputs": [
    {
     "data": {
      "image/png": "[encoded data removed]",
      "text/plain": [
       "<Figure size 1400x600 with 1 Axes>"
      ]
     },
     "metadata": {},
     "output_type": "display_data"
    }
   ],
   "source": [
    "import matplotlib.pyplot as plt\n",
    "plt.figure(figsize=(14, 6))\n",
    "\n",
    "plt.plot(merged['Date'], merged['Actual'], label='Actual', marker='o')\n",
    "plt.plot(merged['Date'], merged['Linear_Regression'], label='Linear Regression', marker='o')\n",
    "plt.plot(merged['Date'], merged['LSTM'], label='LSTM', marker='o')\n",
    "plt.plot(merged['Date'], merged['ARIMA'], label='ARIMA', marker='o')\n",
    "\n",
    "plt.xlabel('Date')\n",
    "plt.ylabel('Price')\n",
    "plt.title('Stock Price Prediction: Actual vs Model Forecasts')\n",
    "plt.xticks(rotation=45)\n",
    "plt.legend()\n",
    "plt.grid(True)\n",
    "plt.tight_layout()\n",
    "\n",
    "plt.show()"
   ]
  },
  {
   "cell_type": "code",
   "execution_count": null,
   "id": "de51455b-b3ca-4918-9521-c62d154f3d20",
   "metadata": {},
   "outputs": [],
   "source": []
  }
 ],
 "metadata": {
  "kernelspec": {
   "display_name": "Python [conda env:base] *",
   "language": "python",
   "name": "conda-base-py"
  },
  "language_info": {
   "codemirror_mode": {
    "name": "ipython",
    "version": 3
   },
   "file_extension": ".py",
   "mimetype": "text/x-python",
   "name": "python",
   "nbconvert_exporter": "python",
   "pygments_lexer": "ipython3",
   "version": "3.11.5"
  }
 },
 "nbformat": 4,
 "nbformat_minor": 5
}
